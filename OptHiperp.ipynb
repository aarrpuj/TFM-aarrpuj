{
 "cells": [
  {
   "cell_type": "code",
   "outputs": [],
   "source": [
    "import pstats\n",
    "import random as rnd\n",
    "import numpy as np\n",
    "from pymoo.visualization.scatter import Scatter\n",
    "from pymoo.optimize import minimize\n",
    "from pymoo.core.problem import Problem\n",
    "from pymoo.core.sampling import Sampling\n",
    "from pymoo.core.crossover import Crossover\n",
    "from pymoo.core.mutation import Mutation\n",
    "from pymoo.algorithms.moo.nsga2 import NSGA2\n",
    "from pymoo.operators.survival.rank_and_crowding import RankAndCrowding\n",
    "import warnings\n",
    "import time\n",
    "from pymoo.util.ref_dirs import get_reference_directions\n",
    "import optuna\n",
    "from pymoo.indicators.hv import HV\n",
    "import logging\n",
    "import sys\n",
    "from sklearn import preprocessing\n",
    "from itertools import chain\n",
    "import matplotlib.pyplot as plt"
   ],
   "metadata": {
    "collapsed": false,
    "ExecuteTime": {
     "end_time": "2024-06-23T16:16:01.151556600Z",
     "start_time": "2024-06-23T16:16:01.046311900Z"
    }
   },
   "id": "81e7b7f4eaff5e55",
   "execution_count": 2
  },
  {
   "cell_type": "markdown",
   "source": [
    "## CARGAR DATOS"
   ],
   "metadata": {
    "collapsed": false
   },
   "id": "324d2837f0386280"
  },
  {
   "cell_type": "code",
   "outputs": [],
   "source": [
    "# Cargamos las tablas con las notas\n",
    "for i in range(1, 3):\n",
    "    for j in range(1, 5):\n",
    "        # Nombre de la variable\n",
    "        nombre_variable = f'R{i}{j}'\n",
    "\n",
    "        # Nombre del archivo CSV\n",
    "        path = f'Datos/R{i}{j}.csv'\n",
    "        \n",
    "        # Cargar la tabla desde el archivo CSV y asignarla a la variable con el nombre correspondiente\n",
    "        globals()[nombre_variable] = np.loadtxt(path, delimiter=',')\n",
    "        \n",
    "        \n",
    "\n",
    "#Cargamos las tablas con los generos\n",
    "for i in range(1, 3):\n",
    "    for j in range(1, 5):\n",
    "        # Nombre de la variable\n",
    "        nombre_variable = f'G{i}{j}'\n",
    "\n",
    "        # Nombre del archivo CSV\n",
    "        path = f'Datos/G{i}{j}.csv'\n",
    "        \n",
    "        # Cargar la tabla desde el archivo CSV y asignarla a la variable con el nombre correspondiente\n",
    "        globals()[nombre_variable] = np.loadtxt(path, delimiter=',')\n",
    "\n",
    "Prop_aula_G11 = float(np.mean(G11))\n",
    "Prop_aula_G12 = float(np.mean(G12))\n",
    "Prop_aula_G13 = float(np.mean(G13))\n",
    "Prop_aula_G14 = float(np.mean(G14))\n",
    "Prop_aula_G21 = float(np.mean(G21))\n",
    "Prop_aula_G22 = float(np.mean(G22))\n",
    "Prop_aula_G23 = float(np.mean(G23))\n",
    "Prop_aula_G24 = float(np.mean(G24))\n",
    "\n",
    "#Cargamos las tablas con los test MTBI\n",
    "K=np.loadtxt(\"Datos/K\", delimiter=',')"
   ],
   "metadata": {
    "collapsed": false,
    "ExecuteTime": {
     "end_time": "2024-06-23T16:16:01.277906100Z",
     "start_time": "2024-06-23T16:16:01.148871600Z"
    }
   },
   "id": "2928c52134d976fa",
   "execution_count": 3
  },
  {
   "cell_type": "markdown",
   "source": [
    "## CLASES Y FUNCIONES NECESARIAS"
   ],
   "metadata": {
    "collapsed": false
   },
   "id": "a37c42efdb5b9fea"
  },
  {
   "cell_type": "code",
   "outputs": [],
   "source": [
    "def formar_equipos(vector_permutacion):   #Dado una lista permutada de alumnos configuramos los alumnos en equipos de 4 y si hace falta de 5\n",
    "    \n",
    "    equipos = vector_permutacion.reshape(-1, 4)\n",
    "    \n",
    "    return equipos\n",
    "\n",
    "def GH_team(Ri,r_max,r_min, r_mean):\n",
    "    \n",
    "    unique_values, counts = np.unique(Ri, return_counts=True)\n",
    "    count_unique_values = len(unique_values)\n",
    "    repetidos = unique_values[counts > 1]\n",
    "    \n",
    "    # Calculamos AD(ti)\n",
    "    ADi = (np.max(Ri) - np.min(Ri)) / 2\n",
    "    # Calculamos GH(ti)\n",
    "    # Calcular la puntuación técnica más alta y más baja para el equipo i\n",
    "    max_puntuacion = np.max(Ri)\n",
    "    min_puntuacion = np.min(Ri)\n",
    "    #print(f\" Puntuaciones max: {max_puntuacion}\")\n",
    "    #print(f\" Puntuaciones min: {min_puntuacion}\")\n",
    "    \n",
    "    # Excluir las puntuaciones más altas y más bajas del cálculo de GH\n",
    "    puntuaciones_excluidas = np.setdiff1d(unique_values, [max_puntuacion, min_puntuacion])\n",
    "    repetidos = unique_values[counts > 1]\n",
    "    #print(f\"repetidos: {repetidos}\")\n",
    "    \n",
    "    if len(repetidos) > 0:\n",
    "        \n",
    "        # Si hay valores repetidos\n",
    "        puntuaciones_excluidas = np.append(puntuaciones_excluidas, repetidos[0])\n",
    "        \n",
    "        # Si el valor se repite 4 veces, lo agregamos dos veces a puntuaciones_excluidas\n",
    "        if counts[0] == 4:\n",
    "            puntuaciones_excluidas = np.append(puntuaciones_excluidas, repetidos[0])\n",
    "        \n",
    "        elif np.any(counts == 3):  \n",
    "            puntuaciones_excluidas = np.append(puntuaciones_excluidas, repetidos[0])\n",
    "            \n",
    "        elif len(repetidos) > 1:\n",
    "            # Si hay más de un valor repetido, agregamos el segundo valor repetido como puntuación excluida\n",
    "            puntuaciones_excluidas = np.append(puntuaciones_excluidas, repetidos[1])\n",
    "            \n",
    "    \n",
    "       \n",
    "    \n",
    "    #print(f\" Puntuaciones excluidas: {puntuaciones_excluidas}\")\n",
    "    restas = np.abs(ADi - puntuaciones_excluidas)\n",
    "    GHi = (np.max(Ri) - np.min(Ri)) / (1 + np.sum(restas))\n",
    "    #print(f\"GHi: {GHi}\")\n",
    "    \n",
    "    AD_max = (r_max-r_min) / 2\n",
    "    restas_max = AD_max-r_mean\n",
    "    GHi_max = (r_max-r_min) / (1 + np.abs(2*restas_max))\n",
    "    #print(f\"GHi_max: {GHi_max}\")\n",
    "    return GHi/GHi_max\n",
    "\n",
    "\n",
    "\n",
    "def P_team(Ki):\n",
    "    # Calculamos el vector P\n",
    "    suma_perfiles = np.sum(Ki, axis=0)\n",
    "    num_alumnos = np.shape(Ki)[0]\n",
    "    \n",
    "    # Inicializamos el vector P_k\n",
    "    P_k = np.zeros_like(suma_perfiles)\n",
    "    \n",
    "    # Si todos tienen el mismo perfil le damos un 0 en esa dimensión\n",
    "    P_k[np.abs(suma_perfiles) == num_alumnos] = 0\n",
    "    \n",
    "    # Si todos menos un individuo tienen el mismo perfil le damos un 1 a esa dimensión\n",
    "    P_k[np.abs(suma_perfiles) >= num_alumnos - 2] = 1\n",
    "    \n",
    "    # Para los demás casos le damos un 2 a esa dimensión\n",
    "    P_k[(np.abs(suma_perfiles) < num_alumnos - 2) & (np.abs(suma_perfiles) > 0)] = 2\n",
    "    \n",
    "    # Calculamos el indice de divergencia psicológica para ese equipo\n",
    "    P_ti = np.sum(P_k)\n",
    "    \n",
    "    return P_ti/8\n",
    "\n",
    "def BG_team(Gi, P_aula):\n",
    "    \n",
    "    P_equipo=float(np.mean(Gi))\n",
    "    Divisor =max(P_aula, 1 - P_aula)\n",
    "    BG_ti = 1-(abs(P_aula - P_equipo)/ Divisor)\n",
    "    \n",
    "    return BG_ti\n",
    "\n",
    "def fitness_particion(fitness_equipos):\n",
    "    \n",
    "    # AT solucion\n",
    "    # Calcula la suma de los primeros elementos de cada lista anidada\n",
    "    #DMs = fitness_equipos[:,0]\n",
    "    #DM_C_prod = np.prod(DMs)\n",
    "    GHs = fitness_equipos[:,0]\n",
    "    \n",
    "    # Comprobamos si el denominador es cero\n",
    "    #if np.mean(GHs) == 0:\n",
    "        #CV_GH = 0  # Si el denominador es cero, el resultado es cero\n",
    "    #else:\n",
    "        #CV_GH = -np.std(GHs)/np.mean(GHs) * 100\n",
    "    \n",
    "    #Calculamos el indice de Aptitud Tecnica de una solución de partición de equipos con sus pesos correspondientes\n",
    "    #AT_sol= np.dot([DM_C_prod, GH_C_prod], [0.5, 0.5])\n",
    "    AT_sol = np.prod(GHs)\n",
    "    # P solucion\n",
    "    Ps = fitness_equipos[:,1]\n",
    "    P_sol= float( np.prod(Ps))\n",
    "    \n",
    "    # BG solucion\n",
    "    BGs = fitness_equipos[:,2]\n",
    "    BG_sol= np.prod(BGs)\n",
    "\n",
    "    return np.array([-AT_sol, -P_sol, -BG_sol])    \n",
    "\n",
    "class TFP(Problem):\n",
    "    def __init__(self, n_var, R, K, G, Prop_aula):\n",
    "        super().__init__(n_var=n_var, n_obj=3, xl=1, xu=n_var)\n",
    "        self.R = R\n",
    "        self.K = K\n",
    "        self.G = G\n",
    "        self.Prop_aula = Prop_aula\n",
    "        self.team_fitness_dict = {}\n",
    "        self.solution_fitness_dict={}\n",
    "        \n",
    "    def _evaluate(self, X, out, *args, **kwargs):\n",
    "        num_solutions = X.shape[0]\n",
    "\n",
    "        AT_solucion = np.zeros(num_solutions)\n",
    "        P_solucion = np.zeros(num_solutions)\n",
    "        BG_solucion = np.zeros(num_solutions)\n",
    "        \n",
    "        Fitness_pop = np.empty([0,3])\n",
    "        \n",
    "        for i in range(num_solutions):\n",
    "            solucion_actual = X[i, :]  \n",
    "            # Lo convertimos en frozenset para que pueda utilizarse como key al ser un objeto inmutable y pq no queremos que tenga en cuenta el orden de los alumnos en el equipo\n",
    "            if frozenset(solucion_actual) in self.solution_fitness_dict:# Si la solucion esta en el diccionario no calcular fitness\n",
    "                \n",
    "                Fitness_pop = np.vstack((Fitness_pop, self.solution_fitness_dict[frozenset(solucion_actual)]))\n",
    "                             \n",
    "            else:\n",
    "                \n",
    "                equipos = formar_equipos(solucion_actual)\n",
    "                #print(f\"Equipos actuales a evaluar: {equipos}\")\n",
    "                fitness_equipos= np.empty([0,3]) #inicializamos lista para guardar el fitness de los equipos\n",
    "            \n",
    "                #Iteramos sobre cada equipo de la solución actual\n",
    "                for j in range(0, equipos.shape[0]):  \n",
    "                \n",
    "                    ti = equipos[j]\n",
    "                    # Lo convertimos en frozenset para que pueda utilizarse como key al ser un objeto inmutable y pq no queremos que tenga en cuenta el orden de los alumnos en el equipo\n",
    "                    if frozenset(ti) in self.team_fitness_dict: # Si el equipo esta en el diccionario no calcular fitness\n",
    "                    \n",
    "                        fitness_ti = self.team_fitness_dict[frozenset(ti)]\n",
    "                        fitness_equipos = np.vstack((fitness_equipos, fitness_ti))\n",
    "                    \n",
    "                    else:\n",
    "                        \n",
    "                        r_max = np.max(self.R)\n",
    "                        r_min =np.min(self.R)\n",
    "                        r_mean =np.mean(self.R)\n",
    "                        Ri = self.R[ti]\n",
    "                        Ki = self.K[ti]\n",
    "                        Gi = self.G[ti]\n",
    "                \n",
    "                        GH_equipo = GH_team(Ri,r_max, r_min, r_mean)\n",
    "                        P_equipo = P_team(Ki)\n",
    "                        BG_equipo = BG_team(Gi, self.Prop_aula) \n",
    "                        fitness_ti = np.array([GH_equipo, P_equipo, BG_equipo])\n",
    "                        fitness_equipos = np.vstack((fitness_equipos,fitness_ti))\n",
    "                    \n",
    "                        self.team_fitness_dict[frozenset(ti)] = fitness_ti #Introducimos el fitness del equipo nuevo en el diccionario para futuros casos\n",
    "                \n",
    "                Fitness_C = fitness_particion(fitness_equipos)   \n",
    "                Fitness_pop = np.vstack((Fitness_pop, Fitness_C))\n",
    "                #print(f\"fitness de los equipos evaluados:{fitness_equipos}\")\n",
    "                #print(f\"fitness de la poblacion: {Fitness_pop[i]}\")\n",
    "        out[\"F\"] = np.row_stack([Fitness_pop])         \n",
    "        #print(f\"Salida final: {out[\"F\"]}\")\n",
    "        \n",
    "\n",
    "\n",
    "\n",
    "class PermutationSampling(Sampling):\n",
    "    def __init__(self, problem, n_samples):\n",
    "        super().__init__()\n",
    "        self.problem = problem\n",
    "        self.n_samples = n_samples\n",
    "\n",
    "    def _do(self, problem, n_samples, **kwargs):\n",
    "        X = np.full((n_samples, problem.n_var), -1, dtype=int)\n",
    "\n",
    "        for k in range(n_samples):\n",
    "            X[k, :] = np.random.permutation(range(1, problem.n_var + 1))\n",
    "            \n",
    "        return X\n",
    "    \n",
    "    \n",
    "    \n",
    "\n",
    "\n",
    "class RouletteWheelSelection:\n",
    "\n",
    "    def __init__(self, val, larger_is_better=True):\n",
    "        super().__init__()\n",
    "        if not larger_is_better:\n",
    "            val = val.max() - val\n",
    "        _sum = val.sum()\n",
    "        self.cumulative = np.array([val[:k].sum() / _sum for k in range(1, len(val))])\n",
    "\n",
    "    def next(self):\n",
    "        \n",
    "        X = np.random.random((1, 1))\n",
    "        \n",
    "        #print(f\"num rueda: {X}\")\n",
    "        M = self.cumulative[None, :].repeat(len(X), axis=0)\n",
    "        #print(f\"M: {M}\")\n",
    "        B = X >= M\n",
    "        ret = B.sum(axis=1)[0]\n",
    "        #print(f\" Equipo seleccionado: {ret}\")\n",
    "        \n",
    "        return ret\n",
    "    \n",
    "\n",
    "#Funcion para convertir alumnos repetidos en 0 a partir de la segunda ocurrencia\n",
    "# Crear un array numpy con 20 números aleatorios del 1 al 10\n",
    "def generar_alumnos_no_presente(alumnos_presentes, n_var):\n",
    "    \n",
    "    alumnos_todos = np.arange(1, n_var + 1)\n",
    "    #print(f\"alumnos presentes: {alumnos_presentes}\")\n",
    "    alumnos_posibles = np.setdiff1d(alumnos_todos,alumnos_presentes)\n",
    "    #print(f\"alumnos no incluidos: {alumnos_posibles}\")\n",
    "    # Encontrar los valores únicos y contar cuántas veces aparece cada uno\n",
    "    valores_unicos, cuentas = np.unique(alumnos_presentes, return_counts=True)\n",
    "    #print(f\"valores unicos: {valores_unicos}\")\n",
    "    #print(f\"cuentas: {cuentas}\")\n",
    "    \n",
    "    # Crear una máscara para los valores que deben cambiarse a 0 a partir de la segunda ocurrencia\n",
    "    mascara_repetidos = np.zeros_like(alumnos_presentes, dtype=bool)\n",
    "    for valor in valores_unicos:\n",
    "        indices_valor = np.where(alumnos_presentes == valor)[0]\n",
    "        mascara_repetidos[indices_valor[1:]] = True\n",
    "    #print(f\"mascara repetidos: {array_numeros[mascara_repetidos]}\")\n",
    "    \n",
    "    # Cambiar los valores repetidos a partir de la segunda ocurrencia\n",
    "    alumnos_presentes[mascara_repetidos] = alumnos_posibles\n",
    "    #print(f\"permutacion final: {alumnos_presentes}\")\n",
    "    return alumnos_presentes\n",
    "\n",
    "\n",
    "class CustomCrossover(Crossover):\n",
    "    def __init__(self, *args, **kwargs):\n",
    "        super().__init__(2, 1, *args, **kwargs)  # Numero de padres=2 numero de hijos=1\n",
    "\n",
    "    def _do(self, problem, X, **kwargs):\n",
    "\n",
    "        # Cada fila representa un padre, cada columna una variable(alunmno)\n",
    "        _, n_matings, n_var = X.shape\n",
    "\n",
    "        # Inicializar la matriz de descendencia\n",
    "        Y = np.zeros((1, n_matings, n_var), dtype=int)\n",
    "\n",
    "        for k in range(0, n_matings):\n",
    "            #print(f\"mating numero {k}\")\n",
    "            #Seleccionar dos padres\n",
    "            P1, P2 = X[:, k, :]\n",
    "\n",
    "            # Generamos el vector para guardar los equipos de ambos padres\n",
    "            #print(f\"padre 1: {P1}\")\n",
    "            #print(f\"padre 2: {P2}\")\n",
    "            Equipos_P1 = formar_equipos(P1)\n",
    "            Equipos_P2 = formar_equipos(P2)\n",
    "            n_equipos = len(Equipos_P1)\n",
    "            Equipos_P1_P2 = np.concatenate((Equipos_P1, Equipos_P2))  # Matriz con los equipos de ambos padres\n",
    "\n",
    "            # Inicializamos vector de equipos seleccionados y vector de fitness de los equipos\n",
    "            alumnos_seleccionados = np.empty(0)\n",
    "            fitness_P1_P2 = np.empty((0, 3))\n",
    "            indices_selec = set()\n",
    "            # Generamos el vector con los fitness de los equipos de ambos padres\n",
    "            for equipo_actual in Equipos_P1_P2:\n",
    "                equipo_actual_frozenset = frozenset(equipo_actual)\n",
    "                #print(f\"equipo actual: {equipo_actual}\")\n",
    "                fitness_equipo = problem.team_fitness_dict[\n",
    "                    equipo_actual_frozenset]  # Sacamos el fitness del diccionario, puesto que ya se han calculado en el evaluate del TFP\n",
    "                #print(f\"fitness del equipo actual: {fitness_equipo}\")\n",
    "                fitness_P1_P2 = np.vstack((fitness_P1_P2, fitness_equipo))\n",
    "            #print(f\"matriz fitness antes de reescalar: {fitness_P1_P2}\")\n",
    "\n",
    "            # Normalizar por columnas\n",
    "            fitness_P1_P2 =  fitness_P1_P2 = preprocessing.normalize(fitness_P1_P2,axis=0)\n",
    "            #print(f\"matriz fitness tras reescalar: {fitness_P1_P2}\")\n",
    "            fitness_P1_P2 = np.dot(fitness_P1_P2, [0.5, 0.5, 0.5])\n",
    "            \n",
    "            selector = RouletteWheelSelection(fitness_P1_P2)\n",
    "            for i in range(0, n_equipos):\n",
    "                # Actualizamos el ranking y seleccionamos un equipo segun este\n",
    "                #print(f\"Equipos: {Equipos_P1_P2}\")\n",
    "                #print(f\"Fitness de los equipos: {fitness_P1_P2}\")\n",
    "                arg_selec = selector.next()\n",
    "                while arg_selec in indices_selec:\n",
    "                    arg_selec = selector.next()\n",
    "                indices_selec.add(arg_selec)\n",
    "                ti_selec = Equipos_P1_P2[arg_selec]\n",
    "                #print(f\"Equipo seleccionado: {ti_selec}\")\n",
    "                alumnos_seleccionados = np.concatenate((alumnos_seleccionados, ti_selec))\n",
    "                \n",
    "            alumnos_seleccionados = generar_alumnos_no_presente(alumnos_seleccionados, n_var)\n",
    "\n",
    "            #print(f\"padre 1: {P1}\")\n",
    "            #print(f\"padre 2: {P2}\")\n",
    "            #print(f\"Hijo generado: {alumnos_seleccionados}\")\n",
    "            # Añadimos el hijo a la matriz de hijos Y\n",
    "            Y[0, k, :] = alumnos_seleccionados\n",
    "\n",
    "        return Y\n",
    "    \n",
    "\n",
    "class CustomX(CustomCrossover):\n",
    "    pass\n",
    "\n",
    "import random\n",
    "from itertools import chain\n",
    "\n",
    "class CustomMutation(Mutation):\n",
    "\n",
    "    def __init__(self, prob):\n",
    "        super().__init__()\n",
    "        self.prob = prob\n",
    "\n",
    "    def _do(self, problem, X, **kwargs):\n",
    "        Y = X.copy()\n",
    "        \n",
    "        # Iterar sobre cada solución en la población\n",
    "        for i in range(len(Y)):\n",
    "            if np.random.random() < self.prob:\n",
    "                #print(f\"MUTACION EN {i} REALIZADA!\")\n",
    "                #print(f\"solución {i}: {Y[i]}\")\n",
    "                equipos = formar_equipos(Y[i])\n",
    "                #print(f\"Equipos formados: {equipos}\")\n",
    "                num_teams = equipos.shape[0]\n",
    "                a = np.random.randint(2, num_teams+1)\n",
    "                #print(f\"a: {a}\")\n",
    "                np.random.shuffle(equipos)\n",
    "                # Seleccionar las primeras a filas\n",
    "                equipos_selec = equipos[:a]\n",
    "                #print(\"\\nequipos_selec:\")\n",
    "                #print(equipos_selec)\n",
    "                \n",
    "                # Eliminar las filas seleccionadas del array original\n",
    "                equipos = equipos[a:]\n",
    "                #print(f\" Equipos con equipos selec quitados: {equipos}\")\n",
    "                \n",
    "                #Lo pasamos a permutacion\n",
    "                equipos = equipos.reshape(-1)\n",
    "                perm = equipos_selec.reshape(-1)\n",
    "                #print(f\"equipos selec plano: {perm}\")\n",
    "                \n",
    "                # Crear una permutación aleatoria de los elementos\n",
    "                perm = np.random.permutation(perm)\n",
    "                #print(f\"Random shuffle: {perm}\")\n",
    "                # Combina las sublistas de las dos listas\n",
    "                Y[i] = np.concatenate((equipos, perm))\n",
    "                #print(f\"solucion final: {Y[i]}\")\n",
    "                \n",
    "\n",
    "        return Y"
   ],
   "metadata": {
    "collapsed": false,
    "ExecuteTime": {
     "end_time": "2024-06-23T16:16:01.336326500Z",
     "start_time": "2024-06-23T16:16:01.255448Z"
    }
   },
   "id": "1a5012b7dc9aeac0",
   "execution_count": 4
  },
  {
   "cell_type": "code",
   "outputs": [],
   "source": [
    "from pymoo.core.crossover import Crossover\n",
    "from pymoo.util.misc import crossover_mask\n",
    "\n",
    "def _create_offspring( parent1, parent2, cut_point):\n",
    "        offspring = np.full_like(parent1, -1)\n",
    "\n",
    "        # Copy the first part from parent 1\n",
    "        offspring[:cut_point] = parent1[:cut_point]\n",
    "\n",
    "        # Insert values from parent 2 starting from the crossover point\n",
    "        idx = cut_point\n",
    "        for value in parent2[cut_point:]:\n",
    "            if value not in offspring:\n",
    "                offspring[idx] = value\n",
    "                idx += 1\n",
    "\n",
    "        # Insert values from parent 2 starting from the beginning if necessary\n",
    "        for value in parent2:\n",
    "            if value not in offspring:\n",
    "                offspring[idx] = value\n",
    "                idx += 1\n",
    "\n",
    "        return offspring\n",
    "\n",
    "class CutAndCrossfillCrossover(Crossover):\n",
    "    \n",
    "    def __init__(self, **kwargs):\n",
    "        super().__init__(2, 2, **kwargs)\n",
    "        \n",
    "    def _do(self, problem, X, **kwargs):\n",
    "        _, n_matings, n_var = X.shape\n",
    "        \n",
    "        # Allocate memory for the offspring\n",
    "        _X = np.full((self.n_offsprings, n_matings, n_var), -1, dtype= int)\n",
    "\n",
    "        for k in range(n_matings):\n",
    "            # Choose two parents\n",
    "            p1, p2 = X[0, k], X[1, k]\n",
    "        \n",
    "            # Choose a random crossover point\n",
    "            cut_point = np.random.randint(1, n_var)\n",
    "            \n",
    "            # Create offspring 1\n",
    "            offspring1 = _create_offspring(p1, p2, cut_point)\n",
    "            _X[0, k] = offspring1\n",
    "            \n",
    "            # Create offspring 2\n",
    "            offspring2 = _create_offspring(p2, p1, cut_point)\n",
    "            _X[1, k] = offspring2\n",
    "            \n",
    "        return _X\n",
    "\n",
    "    \n",
    "\n",
    "class CCX(CutAndCrossfillCrossover):\n",
    "    pass"
   ],
   "metadata": {
    "collapsed": false,
    "ExecuteTime": {
     "end_time": "2024-06-23T16:16:01.340530500Z",
     "start_time": "2024-06-23T16:16:01.283321500Z"
    }
   },
   "id": "383048f1ff870015",
   "execution_count": 5
  },
  {
   "cell_type": "markdown",
   "source": [
    "## OPTIMIZACIÓN DE LOS HIPERPARAMETROS MEDIANTE BUSQUEDA BAYESIANA"
   ],
   "metadata": {
    "collapsed": false
   },
   "id": "6c13f9e400cf74b4"
  },
  {
   "cell_type": "code",
   "outputs": [
    {
     "name": "stderr",
     "output_type": "stream",
     "text": [
      "[I 2024-06-23 18:16:01,768] Using an existing study with name 'Opt_hyperparameters' instead of creating a new one.\n"
     ]
    },
    {
     "name": "stdout",
     "output_type": "stream",
     "text": [
      "Using an existing study with name 'Opt_hyperparameters' instead of creating a new one.\n",
      "Mejores hiperparámetros encontrados: {'mutation_prob': 0.057513732052917474, 'crossover_prob': 0.7717895293001165}\n",
      "Tiempo de ejecución: 0.40590476989746094 segundos\n"
     ]
    }
   ],
   "source": [
    "import warnings\n",
    "from pymoo.util.nds.non_dominated_sorting import NonDominatedSorting\n",
    "\n",
    "def objective(trial):\n",
    "    \n",
    "    # Definir el espacio de búsqueda para los hiperparámetros\n",
    "    mutation_prob_hp = trial.suggest_float('mutation_prob', 0.0, 1)\n",
    "    crossover_prob_hp = trial.suggest_float('crossover_prob', 0.0, 1)\n",
    "    \n",
    "    \n",
    "    hv = HV(ref_point=[1,1,1])\n",
    "    hypervolumes = []\n",
    "    configuraciones = [[40, R11, G11, Prop_aula_G11],\n",
    "                       [40, R21, G21, Prop_aula_G21],\n",
    "                       [60, R12, G22, Prop_aula_G12],\n",
    "                       [60, R22, G12, Prop_aula_G22],\n",
    "                       [80, R13, G13, Prop_aula_G13],\n",
    "                       [80, R23, G23, Prop_aula_G23]]\n",
    "                        \n",
    "    for configuracion in configuraciones:\n",
    "        \n",
    "        avg_hypervolume = 0 \n",
    "        # Crear el problema y el algoritmo con los hiperparámetros sugeridos\n",
    "        n_var, R, G, Prop_aula = configuracion\n",
    "        problema1= TFP(n_var, R, K, G, Prop_aula)\n",
    "        \n",
    "        # Crear una instancia de la clase PermutationSampling\n",
    "        n_samples = 50\n",
    "        sampling = PermutationSampling(problema1, n_samples)\n",
    "        algoritmo_nsga2 = NSGA2(\n",
    "        pop_size=50,\n",
    "        sampling = sampling,\n",
    "        crossover = CustomCrossover(prob = crossover_prob_hp),\n",
    "        mutation = CustomMutation(prob = mutation_prob_hp),\n",
    "        survival = RankAndCrowding(crowding_func=\"ce\"),\n",
    "        eliminate_duplicates = True,\n",
    "        save_history = False)\n",
    "        for i in range(5):\n",
    "            # Realizar la optimización\n",
    "            result = minimize(problema1,algoritmo_nsga2,('n_gen', 100), verbose=True)\n",
    "            # Calcular el hipervolumen del frente de Pareto resultante\n",
    "            non_dom_idx = NonDominatedSorting().do(result.pop.get(\"F\"), only_non_dominated_front=True)\n",
    "            F = result.pop.get(\"F\")[non_dom_idx]\n",
    "            hypervolume_value = hv(F)\n",
    "            avg_hypervolume += hypervolume_value\n",
    "            \n",
    "        avg_hypervolume /= 5  # Calcula el promedio del hipervolumen para este problema\n",
    "        hypervolumes.append(avg_hypervolume)\n",
    "        \n",
    "    # Calcula el promedio de los hipervolúmenes para todos los problemas\n",
    "    avg_hypervolume_overall = sum(hypervolumes) / len(hypervolumes)  \n",
    "    \n",
    "    # Devolver el valor del hipervolumen como objetivo a maximizar\n",
    "    return avg_hypervolume_overall\n",
    "\n",
    "start_time = time.time()\n",
    "# Configurar y ejecutar la optimización con Optuna\n",
    "optuna.logging.get_logger(\"optuna\").addHandler(logging.StreamHandler(sys.stdout))\n",
    "study_name = \"Opt_hyperparameters\"  # Unique identifier of the study.\n",
    "storage_name = \"sqlite:///{}.db\".format(study_name)\n",
    "study = optuna.create_study(study_name=study_name, storage=storage_name, direction='maximize', load_if_exists=True)\n",
    "#study.optimize(objective, n_trials=200) # Queremos maximizar el hipervolumen\n",
    "end_time = time.time()\n",
    "execution_time = end_time - start_time\n",
    "\n",
    "# Obtener los mejores hiperparámetros\n",
    "best_params = study.best_params\n",
    "print(\"Mejores hiperparámetros encontrados:\", best_params)\n",
    "# Imprime el tiempo de ejecución\n",
    "print(f\"Tiempo de ejecución: {execution_time} segundos\")\n",
    "\n",
    "# Obtiene los resultados del estudio como un DataFrame\n",
    "df = study.trials_dataframe()\n",
    "\n",
    "# Guarda el DataFrame en un archivo CSV\n",
    "df.to_csv('study_results.csv', index=False)"
   ],
   "metadata": {
    "collapsed": false,
    "ExecuteTime": {
     "end_time": "2024-06-23T16:16:01.905922500Z",
     "start_time": "2024-06-23T16:16:01.383283600Z"
    }
   },
   "id": "59a240800c216004",
   "execution_count": 7
  },
  {
   "cell_type": "code",
   "outputs": [
    {
     "data": {
      "application/vnd.plotly.v1+json": {
       "data": [
        {
         "mode": "markers",
         "name": "Objective Value",
         "x": [
          0,
          1,
          2,
          3,
          4,
          5,
          6,
          7,
          8,
          9,
          10,
          11,
          12,
          13,
          14,
          15,
          16,
          17,
          18,
          19,
          20,
          21,
          22,
          23,
          24,
          25,
          26,
          27,
          28,
          29,
          30,
          31,
          32,
          33,
          34,
          35,
          36,
          37,
          38,
          39,
          40,
          41,
          42,
          43,
          44,
          45,
          46,
          47,
          48,
          49,
          50,
          51,
          52,
          53,
          54,
          55,
          56,
          57,
          58,
          59,
          60,
          61,
          62,
          63,
          64,
          65,
          66,
          67,
          68,
          69,
          70,
          71,
          72,
          73,
          74,
          75,
          76,
          77,
          78,
          79,
          80,
          81,
          82,
          83,
          84,
          85,
          86,
          87,
          88,
          89,
          90,
          91,
          92,
          93,
          94,
          95,
          96,
          97,
          98,
          99,
          100,
          101,
          102,
          103,
          104,
          105,
          106,
          107,
          108,
          109,
          110,
          111,
          112,
          113,
          114,
          115,
          116,
          117,
          118,
          119,
          120,
          121,
          122,
          123,
          124,
          125,
          126,
          127,
          128,
          129,
          130,
          131,
          132,
          133,
          134,
          135,
          136,
          137,
          138,
          139,
          140,
          141,
          142,
          143,
          144,
          145,
          146,
          147,
          148,
          149,
          150,
          151,
          152,
          153,
          154,
          155,
          156,
          157,
          158,
          159,
          160,
          161,
          162,
          163,
          164,
          165,
          166,
          167,
          168,
          169,
          170,
          171,
          172,
          173,
          174,
          175,
          176,
          177,
          178,
          179,
          180,
          181,
          182,
          183,
          184,
          185,
          186,
          187,
          188,
          189,
          190,
          191,
          192,
          193,
          194,
          195,
          196,
          197,
          198,
          199
         ],
         "y": [
          1.1751555963818288,
          1.176397199259896,
          1.1772495303010724,
          1.1777009318672282,
          1.178141469471336,
          1.1795406794381638,
          1.181186325991822,
          1.1789554217270142,
          1.1811962466616408,
          1.181872455515288,
          1.1814021949308158,
          1.182709483535973,
          1.1819173279203556,
          1.1820700666177995,
          1.1821825028213866,
          1.1815615368977699,
          1.1815441346400093,
          1.1817373363586883,
          1.1762974354591536,
          1.1826758975118377,
          1.1792969482620121,
          1.182188166030083,
          1.182093348188037,
          1.1824367755488352,
          1.181260473174849,
          1.1811055874757008,
          1.1818979559268603,
          1.1807249928259305,
          1.1797671275101402,
          1.1747648382438187,
          1.1824283401973157,
          1.1757917685785924,
          1.181544886647485,
          1.1745659446852061,
          1.1801942250605884,
          1.183725249388306,
          1.1816703608869832,
          1.1811683463655018,
          1.1805471260720843,
          1.18256128282758,
          1.1816587832826708,
          1.1824039919407547,
          1.1818465513254426,
          1.181677650218065,
          1.1824271794737007,
          1.1826014353792098,
          1.181401475555833,
          1.181574986726404,
          1.1815748161573583,
          1.1814210816568234,
          1.1822076186159862,
          1.181693160064061,
          1.181373281229144,
          1.1829292285976736,
          1.1815177026846848,
          1.1810470100520034,
          1.1822079868745068,
          1.1823009772465667,
          1.1813913117103392,
          1.181915548717144,
          1.182305872251347,
          1.1799817016593315,
          1.1823881533905707,
          1.1820987094585222,
          1.181153631078753,
          1.181773490829327,
          1.1813877742422842,
          1.181939193029015,
          1.1815812488801944,
          1.1793360213894999,
          1.1790767621872635,
          1.1820688385531988,
          1.181427406305048,
          1.1826025103963385,
          1.1829706727510776,
          1.1811822238147878,
          1.1828006587042639,
          1.1807308141405244,
          1.1813398661360097,
          1.1816042252324672,
          1.1825415968104875,
          1.1827365865257742,
          1.182231308039526,
          1.1817443258226459,
          1.181756114236056,
          1.1826335918928725,
          1.1812793568890279,
          1.1816825051694915,
          1.1820948570792,
          1.1820058601450483,
          1.1827558849114428,
          1.1825423224679321,
          1.1817833995436067,
          1.181812129939044,
          1.182205084401522,
          1.1805452601443205,
          1.1814329382153035,
          1.1825228017060967,
          1.1810113256864072,
          1.181441656395377,
          1.1770174769088102,
          1.181060062910586,
          1.183116498480361,
          1.1816827548766924,
          1.1813415476713272,
          1.182058507532923,
          1.1807380252831683,
          1.1804303281183548,
          1.1836275006618784,
          1.182594176314243,
          1.1789279836389388,
          1.181566110228528,
          1.1819645852690097,
          1.1809250960203441,
          1.1827770621602574,
          1.1828179055763701,
          1.1826869703084804,
          1.1816172717315128,
          1.1816441723093447,
          1.1809374723526063,
          1.1826511397774893,
          1.1819048549511093,
          1.1830975140045024,
          1.1813333245753357,
          1.1816802067255814,
          1.182508936984788,
          1.1810051394628014,
          1.1788032089385325,
          1.182365601194859,
          1.1822760571540705,
          1.1814425121229564,
          1.1822424410848114,
          1.182548613435482,
          1.181761970436819,
          1.1811036812974263,
          1.1805401453336797,
          1.182575011142895,
          1.181224673077102,
          1.1822354607697532,
          1.1816102665279087,
          1.1818461509833573,
          1.180682096756853,
          1.1821601911249282,
          1.1810050522151114,
          1.1824257159728628,
          1.1813428685542704,
          1.1812786246816114,
          1.1827345686152133,
          1.1814922604295413,
          1.1807637823053112,
          1.1838181414924012,
          1.1823288697682994,
          1.1807308216808432,
          1.1803628272652291,
          1.182024696319073,
          1.1806338870072892,
          1.1822180154842952,
          1.1833326358607068,
          1.1816174621747642,
          1.1814718650766054,
          1.181088691447414,
          1.182331731028091,
          1.1829674030890744,
          1.1830670747241154,
          1.1812264473169487,
          1.182993106652101,
          1.1825193125843736,
          1.182546221792948,
          1.18265789794889,
          1.182839269178712,
          1.1826857403748559,
          1.183546191385604,
          1.183642509800839,
          1.1819611023661445,
          1.1815184056896328,
          1.180822570850305,
          1.182326369488291,
          1.1825570225024762,
          1.181791588484691,
          1.182274612810564,
          1.1812682136038137,
          1.1825368679723065,
          1.181221450308784,
          1.182411396527415,
          1.1824874264105263,
          1.182139391580889,
          1.1809365554379132,
          1.1752968724902055,
          1.1813213333993415,
          1.1825237271870839,
          1.181370734133959,
          1.1828718111169083,
          1.181428185344414,
          1.1828253925864816,
          1.1814959185021925,
          1.182389544507714,
          1.1818914518339294,
          1.1821759736905477,
          1.1816488093868134,
          1.1815688046009825
         ],
         "type": "scatter"
        },
        {
         "mode": "lines",
         "name": "Best Value",
         "x": [
          0,
          1,
          2,
          3,
          4,
          5,
          6,
          7,
          8,
          9,
          10,
          11,
          12,
          13,
          14,
          15,
          16,
          17,
          18,
          19,
          20,
          21,
          22,
          23,
          24,
          25,
          26,
          27,
          28,
          29,
          30,
          31,
          32,
          33,
          34,
          35,
          36,
          37,
          38,
          39,
          40,
          41,
          42,
          43,
          44,
          45,
          46,
          47,
          48,
          49,
          50,
          51,
          52,
          53,
          54,
          55,
          56,
          57,
          58,
          59,
          60,
          61,
          62,
          63,
          64,
          65,
          66,
          67,
          68,
          69,
          70,
          71,
          72,
          73,
          74,
          75,
          76,
          77,
          78,
          79,
          80,
          81,
          82,
          83,
          84,
          85,
          86,
          87,
          88,
          89,
          90,
          91,
          92,
          93,
          94,
          95,
          96,
          97,
          98,
          99,
          100,
          101,
          102,
          103,
          104,
          105,
          106,
          107,
          108,
          109,
          110,
          111,
          112,
          113,
          114,
          115,
          116,
          117,
          118,
          119,
          120,
          121,
          122,
          123,
          124,
          125,
          126,
          127,
          128,
          129,
          130,
          131,
          132,
          133,
          134,
          135,
          136,
          137,
          138,
          139,
          140,
          141,
          142,
          143,
          144,
          145,
          146,
          147,
          148,
          149,
          150,
          151,
          152,
          153,
          154,
          155,
          156,
          157,
          158,
          159,
          160,
          161,
          162,
          163,
          164,
          165,
          166,
          167,
          168,
          169,
          170,
          171,
          172,
          173,
          174,
          175,
          176,
          177,
          178,
          179,
          180,
          181,
          182,
          183,
          184,
          185,
          186,
          187,
          188,
          189,
          190,
          191,
          192,
          193,
          194,
          195,
          196,
          197,
          198,
          199
         ],
         "y": [
          1.1751555963818288,
          1.176397199259896,
          1.1772495303010724,
          1.1777009318672282,
          1.178141469471336,
          1.1795406794381638,
          1.181186325991822,
          1.181186325991822,
          1.1811962466616408,
          1.181872455515288,
          1.181872455515288,
          1.182709483535973,
          1.182709483535973,
          1.182709483535973,
          1.182709483535973,
          1.182709483535973,
          1.182709483535973,
          1.182709483535973,
          1.182709483535973,
          1.182709483535973,
          1.182709483535973,
          1.182709483535973,
          1.182709483535973,
          1.182709483535973,
          1.182709483535973,
          1.182709483535973,
          1.182709483535973,
          1.182709483535973,
          1.182709483535973,
          1.182709483535973,
          1.182709483535973,
          1.182709483535973,
          1.182709483535973,
          1.182709483535973,
          1.182709483535973,
          1.183725249388306,
          1.183725249388306,
          1.183725249388306,
          1.183725249388306,
          1.183725249388306,
          1.183725249388306,
          1.183725249388306,
          1.183725249388306,
          1.183725249388306,
          1.183725249388306,
          1.183725249388306,
          1.183725249388306,
          1.183725249388306,
          1.183725249388306,
          1.183725249388306,
          1.183725249388306,
          1.183725249388306,
          1.183725249388306,
          1.183725249388306,
          1.183725249388306,
          1.183725249388306,
          1.183725249388306,
          1.183725249388306,
          1.183725249388306,
          1.183725249388306,
          1.183725249388306,
          1.183725249388306,
          1.183725249388306,
          1.183725249388306,
          1.183725249388306,
          1.183725249388306,
          1.183725249388306,
          1.183725249388306,
          1.183725249388306,
          1.183725249388306,
          1.183725249388306,
          1.183725249388306,
          1.183725249388306,
          1.183725249388306,
          1.183725249388306,
          1.183725249388306,
          1.183725249388306,
          1.183725249388306,
          1.183725249388306,
          1.183725249388306,
          1.183725249388306,
          1.183725249388306,
          1.183725249388306,
          1.183725249388306,
          1.183725249388306,
          1.183725249388306,
          1.183725249388306,
          1.183725249388306,
          1.183725249388306,
          1.183725249388306,
          1.183725249388306,
          1.183725249388306,
          1.183725249388306,
          1.183725249388306,
          1.183725249388306,
          1.183725249388306,
          1.183725249388306,
          1.183725249388306,
          1.183725249388306,
          1.183725249388306,
          1.183725249388306,
          1.183725249388306,
          1.183725249388306,
          1.183725249388306,
          1.183725249388306,
          1.183725249388306,
          1.183725249388306,
          1.183725249388306,
          1.183725249388306,
          1.183725249388306,
          1.183725249388306,
          1.183725249388306,
          1.183725249388306,
          1.183725249388306,
          1.183725249388306,
          1.183725249388306,
          1.183725249388306,
          1.183725249388306,
          1.183725249388306,
          1.183725249388306,
          1.183725249388306,
          1.183725249388306,
          1.183725249388306,
          1.183725249388306,
          1.183725249388306,
          1.183725249388306,
          1.183725249388306,
          1.183725249388306,
          1.183725249388306,
          1.183725249388306,
          1.183725249388306,
          1.183725249388306,
          1.183725249388306,
          1.183725249388306,
          1.183725249388306,
          1.183725249388306,
          1.183725249388306,
          1.183725249388306,
          1.183725249388306,
          1.183725249388306,
          1.183725249388306,
          1.183725249388306,
          1.183725249388306,
          1.183725249388306,
          1.183725249388306,
          1.183725249388306,
          1.183725249388306,
          1.183725249388306,
          1.183725249388306,
          1.183725249388306,
          1.1838181414924012,
          1.1838181414924012,
          1.1838181414924012,
          1.1838181414924012,
          1.1838181414924012,
          1.1838181414924012,
          1.1838181414924012,
          1.1838181414924012,
          1.1838181414924012,
          1.1838181414924012,
          1.1838181414924012,
          1.1838181414924012,
          1.1838181414924012,
          1.1838181414924012,
          1.1838181414924012,
          1.1838181414924012,
          1.1838181414924012,
          1.1838181414924012,
          1.1838181414924012,
          1.1838181414924012,
          1.1838181414924012,
          1.1838181414924012,
          1.1838181414924012,
          1.1838181414924012,
          1.1838181414924012,
          1.1838181414924012,
          1.1838181414924012,
          1.1838181414924012,
          1.1838181414924012,
          1.1838181414924012,
          1.1838181414924012,
          1.1838181414924012,
          1.1838181414924012,
          1.1838181414924012,
          1.1838181414924012,
          1.1838181414924012,
          1.1838181414924012,
          1.1838181414924012,
          1.1838181414924012,
          1.1838181414924012,
          1.1838181414924012,
          1.1838181414924012,
          1.1838181414924012,
          1.1838181414924012,
          1.1838181414924012,
          1.1838181414924012,
          1.1838181414924012,
          1.1838181414924012,
          1.1838181414924012,
          1.1838181414924012
         ],
         "type": "scatter"
        },
        {
         "marker": {
          "color": "#cccccc"
         },
         "mode": "markers",
         "name": "Infeasible Trial",
         "showlegend": false,
         "x": [],
         "y": [],
         "type": "scatter"
        }
       ],
       "layout": {
        "title": {
         "text": "Evolución del Hipervolumen total",
         "font": {
          "size": 30
         }
        },
        "xaxis": {
         "title": {
          "text": "Trials",
          "font": {
           "size": 30
          }
         },
         "tickfont": {
          "size": 20
         }
        },
        "yaxis": {
         "title": {
          "text": "Hipervolumen total",
          "font": {
           "size": 30
          }
         },
         "tickfont": {
          "size": 20
         }
        },
        "template": {
         "data": {
          "histogram2dcontour": [
           {
            "type": "histogram2dcontour",
            "colorbar": {
             "outlinewidth": 0,
             "ticks": ""
            },
            "colorscale": [
             [
              0.0,
              "#0d0887"
             ],
             [
              0.1111111111111111,
              "#46039f"
             ],
             [
              0.2222222222222222,
              "#7201a8"
             ],
             [
              0.3333333333333333,
              "#9c179e"
             ],
             [
              0.4444444444444444,
              "#bd3786"
             ],
             [
              0.5555555555555556,
              "#d8576b"
             ],
             [
              0.6666666666666666,
              "#ed7953"
             ],
             [
              0.7777777777777778,
              "#fb9f3a"
             ],
             [
              0.8888888888888888,
              "#fdca26"
             ],
             [
              1.0,
              "#f0f921"
             ]
            ]
           }
          ],
          "choropleth": [
           {
            "type": "choropleth",
            "colorbar": {
             "outlinewidth": 0,
             "ticks": ""
            }
           }
          ],
          "histogram2d": [
           {
            "type": "histogram2d",
            "colorbar": {
             "outlinewidth": 0,
             "ticks": ""
            },
            "colorscale": [
             [
              0.0,
              "#0d0887"
             ],
             [
              0.1111111111111111,
              "#46039f"
             ],
             [
              0.2222222222222222,
              "#7201a8"
             ],
             [
              0.3333333333333333,
              "#9c179e"
             ],
             [
              0.4444444444444444,
              "#bd3786"
             ],
             [
              0.5555555555555556,
              "#d8576b"
             ],
             [
              0.6666666666666666,
              "#ed7953"
             ],
             [
              0.7777777777777778,
              "#fb9f3a"
             ],
             [
              0.8888888888888888,
              "#fdca26"
             ],
             [
              1.0,
              "#f0f921"
             ]
            ]
           }
          ],
          "heatmap": [
           {
            "type": "heatmap",
            "colorbar": {
             "outlinewidth": 0,
             "ticks": ""
            },
            "colorscale": [
             [
              0.0,
              "#0d0887"
             ],
             [
              0.1111111111111111,
              "#46039f"
             ],
             [
              0.2222222222222222,
              "#7201a8"
             ],
             [
              0.3333333333333333,
              "#9c179e"
             ],
             [
              0.4444444444444444,
              "#bd3786"
             ],
             [
              0.5555555555555556,
              "#d8576b"
             ],
             [
              0.6666666666666666,
              "#ed7953"
             ],
             [
              0.7777777777777778,
              "#fb9f3a"
             ],
             [
              0.8888888888888888,
              "#fdca26"
             ],
             [
              1.0,
              "#f0f921"
             ]
            ]
           }
          ],
          "heatmapgl": [
           {
            "type": "heatmapgl",
            "colorbar": {
             "outlinewidth": 0,
             "ticks": ""
            },
            "colorscale": [
             [
              0.0,
              "#0d0887"
             ],
             [
              0.1111111111111111,
              "#46039f"
             ],
             [
              0.2222222222222222,
              "#7201a8"
             ],
             [
              0.3333333333333333,
              "#9c179e"
             ],
             [
              0.4444444444444444,
              "#bd3786"
             ],
             [
              0.5555555555555556,
              "#d8576b"
             ],
             [
              0.6666666666666666,
              "#ed7953"
             ],
             [
              0.7777777777777778,
              "#fb9f3a"
             ],
             [
              0.8888888888888888,
              "#fdca26"
             ],
             [
              1.0,
              "#f0f921"
             ]
            ]
           }
          ],
          "contourcarpet": [
           {
            "type": "contourcarpet",
            "colorbar": {
             "outlinewidth": 0,
             "ticks": ""
            }
           }
          ],
          "contour": [
           {
            "type": "contour",
            "colorbar": {
             "outlinewidth": 0,
             "ticks": ""
            },
            "colorscale": [
             [
              0.0,
              "#0d0887"
             ],
             [
              0.1111111111111111,
              "#46039f"
             ],
             [
              0.2222222222222222,
              "#7201a8"
             ],
             [
              0.3333333333333333,
              "#9c179e"
             ],
             [
              0.4444444444444444,
              "#bd3786"
             ],
             [
              0.5555555555555556,
              "#d8576b"
             ],
             [
              0.6666666666666666,
              "#ed7953"
             ],
             [
              0.7777777777777778,
              "#fb9f3a"
             ],
             [
              0.8888888888888888,
              "#fdca26"
             ],
             [
              1.0,
              "#f0f921"
             ]
            ]
           }
          ],
          "surface": [
           {
            "type": "surface",
            "colorbar": {
             "outlinewidth": 0,
             "ticks": ""
            },
            "colorscale": [
             [
              0.0,
              "#0d0887"
             ],
             [
              0.1111111111111111,
              "#46039f"
             ],
             [
              0.2222222222222222,
              "#7201a8"
             ],
             [
              0.3333333333333333,
              "#9c179e"
             ],
             [
              0.4444444444444444,
              "#bd3786"
             ],
             [
              0.5555555555555556,
              "#d8576b"
             ],
             [
              0.6666666666666666,
              "#ed7953"
             ],
             [
              0.7777777777777778,
              "#fb9f3a"
             ],
             [
              0.8888888888888888,
              "#fdca26"
             ],
             [
              1.0,
              "#f0f921"
             ]
            ]
           }
          ],
          "mesh3d": [
           {
            "type": "mesh3d",
            "colorbar": {
             "outlinewidth": 0,
             "ticks": ""
            }
           }
          ],
          "scatter": [
           {
            "fillpattern": {
             "fillmode": "overlay",
             "size": 10,
             "solidity": 0.2
            },
            "type": "scatter"
           }
          ],
          "parcoords": [
           {
            "type": "parcoords",
            "line": {
             "colorbar": {
              "outlinewidth": 0,
              "ticks": ""
             }
            }
           }
          ],
          "scatterpolargl": [
           {
            "type": "scatterpolargl",
            "marker": {
             "colorbar": {
              "outlinewidth": 0,
              "ticks": ""
             }
            }
           }
          ],
          "bar": [
           {
            "error_x": {
             "color": "#2a3f5f"
            },
            "error_y": {
             "color": "#2a3f5f"
            },
            "marker": {
             "line": {
              "color": "#E5ECF6",
              "width": 0.5
             },
             "pattern": {
              "fillmode": "overlay",
              "size": 10,
              "solidity": 0.2
             }
            },
            "type": "bar"
           }
          ],
          "scattergeo": [
           {
            "type": "scattergeo",
            "marker": {
             "colorbar": {
              "outlinewidth": 0,
              "ticks": ""
             }
            }
           }
          ],
          "scatterpolar": [
           {
            "type": "scatterpolar",
            "marker": {
             "colorbar": {
              "outlinewidth": 0,
              "ticks": ""
             }
            }
           }
          ],
          "histogram": [
           {
            "marker": {
             "pattern": {
              "fillmode": "overlay",
              "size": 10,
              "solidity": 0.2
             }
            },
            "type": "histogram"
           }
          ],
          "scattergl": [
           {
            "type": "scattergl",
            "marker": {
             "colorbar": {
              "outlinewidth": 0,
              "ticks": ""
             }
            }
           }
          ],
          "scatter3d": [
           {
            "type": "scatter3d",
            "line": {
             "colorbar": {
              "outlinewidth": 0,
              "ticks": ""
             }
            },
            "marker": {
             "colorbar": {
              "outlinewidth": 0,
              "ticks": ""
             }
            }
           }
          ],
          "scattermapbox": [
           {
            "type": "scattermapbox",
            "marker": {
             "colorbar": {
              "outlinewidth": 0,
              "ticks": ""
             }
            }
           }
          ],
          "scatterternary": [
           {
            "type": "scatterternary",
            "marker": {
             "colorbar": {
              "outlinewidth": 0,
              "ticks": ""
             }
            }
           }
          ],
          "scattercarpet": [
           {
            "type": "scattercarpet",
            "marker": {
             "colorbar": {
              "outlinewidth": 0,
              "ticks": ""
             }
            }
           }
          ],
          "carpet": [
           {
            "aaxis": {
             "endlinecolor": "#2a3f5f",
             "gridcolor": "white",
             "linecolor": "white",
             "minorgridcolor": "white",
             "startlinecolor": "#2a3f5f"
            },
            "baxis": {
             "endlinecolor": "#2a3f5f",
             "gridcolor": "white",
             "linecolor": "white",
             "minorgridcolor": "white",
             "startlinecolor": "#2a3f5f"
            },
            "type": "carpet"
           }
          ],
          "table": [
           {
            "cells": {
             "fill": {
              "color": "#EBF0F8"
             },
             "line": {
              "color": "white"
             }
            },
            "header": {
             "fill": {
              "color": "#C8D4E3"
             },
             "line": {
              "color": "white"
             }
            },
            "type": "table"
           }
          ],
          "barpolar": [
           {
            "marker": {
             "line": {
              "color": "#E5ECF6",
              "width": 0.5
             },
             "pattern": {
              "fillmode": "overlay",
              "size": 10,
              "solidity": 0.2
             }
            },
            "type": "barpolar"
           }
          ],
          "pie": [
           {
            "automargin": true,
            "type": "pie"
           }
          ]
         },
         "layout": {
          "autotypenumbers": "strict",
          "colorway": [
           "#636efa",
           "#EF553B",
           "#00cc96",
           "#ab63fa",
           "#FFA15A",
           "#19d3f3",
           "#FF6692",
           "#B6E880",
           "#FF97FF",
           "#FECB52"
          ],
          "font": {
           "color": "#2a3f5f"
          },
          "hovermode": "closest",
          "hoverlabel": {
           "align": "left"
          },
          "paper_bgcolor": "white",
          "plot_bgcolor": "#E5ECF6",
          "polar": {
           "bgcolor": "#E5ECF6",
           "angularaxis": {
            "gridcolor": "white",
            "linecolor": "white",
            "ticks": ""
           },
           "radialaxis": {
            "gridcolor": "white",
            "linecolor": "white",
            "ticks": ""
           }
          },
          "ternary": {
           "bgcolor": "#E5ECF6",
           "aaxis": {
            "gridcolor": "white",
            "linecolor": "white",
            "ticks": ""
           },
           "baxis": {
            "gridcolor": "white",
            "linecolor": "white",
            "ticks": ""
           },
           "caxis": {
            "gridcolor": "white",
            "linecolor": "white",
            "ticks": ""
           }
          },
          "coloraxis": {
           "colorbar": {
            "outlinewidth": 0,
            "ticks": ""
           }
          },
          "colorscale": {
           "sequential": [
            [
             0.0,
             "#0d0887"
            ],
            [
             0.1111111111111111,
             "#46039f"
            ],
            [
             0.2222222222222222,
             "#7201a8"
            ],
            [
             0.3333333333333333,
             "#9c179e"
            ],
            [
             0.4444444444444444,
             "#bd3786"
            ],
            [
             0.5555555555555556,
             "#d8576b"
            ],
            [
             0.6666666666666666,
             "#ed7953"
            ],
            [
             0.7777777777777778,
             "#fb9f3a"
            ],
            [
             0.8888888888888888,
             "#fdca26"
            ],
            [
             1.0,
             "#f0f921"
            ]
           ],
           "sequentialminus": [
            [
             0.0,
             "#0d0887"
            ],
            [
             0.1111111111111111,
             "#46039f"
            ],
            [
             0.2222222222222222,
             "#7201a8"
            ],
            [
             0.3333333333333333,
             "#9c179e"
            ],
            [
             0.4444444444444444,
             "#bd3786"
            ],
            [
             0.5555555555555556,
             "#d8576b"
            ],
            [
             0.6666666666666666,
             "#ed7953"
            ],
            [
             0.7777777777777778,
             "#fb9f3a"
            ],
            [
             0.8888888888888888,
             "#fdca26"
            ],
            [
             1.0,
             "#f0f921"
            ]
           ],
           "diverging": [
            [
             0,
             "#8e0152"
            ],
            [
             0.1,
             "#c51b7d"
            ],
            [
             0.2,
             "#de77ae"
            ],
            [
             0.3,
             "#f1b6da"
            ],
            [
             0.4,
             "#fde0ef"
            ],
            [
             0.5,
             "#f7f7f7"
            ],
            [
             0.6,
             "#e6f5d0"
            ],
            [
             0.7,
             "#b8e186"
            ],
            [
             0.8,
             "#7fbc41"
            ],
            [
             0.9,
             "#4d9221"
            ],
            [
             1,
             "#276419"
            ]
           ]
          },
          "xaxis": {
           "gridcolor": "white",
           "linecolor": "white",
           "ticks": "",
           "title": {
            "standoff": 15
           },
           "zerolinecolor": "white",
           "automargin": true,
           "zerolinewidth": 2
          },
          "yaxis": {
           "gridcolor": "white",
           "linecolor": "white",
           "ticks": "",
           "title": {
            "standoff": 15
           },
           "zerolinecolor": "white",
           "automargin": true,
           "zerolinewidth": 2
          },
          "scene": {
           "xaxis": {
            "backgroundcolor": "#E5ECF6",
            "gridcolor": "white",
            "linecolor": "white",
            "showbackground": true,
            "ticks": "",
            "zerolinecolor": "white",
            "gridwidth": 2
           },
           "yaxis": {
            "backgroundcolor": "#E5ECF6",
            "gridcolor": "white",
            "linecolor": "white",
            "showbackground": true,
            "ticks": "",
            "zerolinecolor": "white",
            "gridwidth": 2
           },
           "zaxis": {
            "backgroundcolor": "#E5ECF6",
            "gridcolor": "white",
            "linecolor": "white",
            "showbackground": true,
            "ticks": "",
            "zerolinecolor": "white",
            "gridwidth": 2
           }
          },
          "shapedefaults": {
           "line": {
            "color": "#2a3f5f"
           }
          },
          "annotationdefaults": {
           "arrowcolor": "#2a3f5f",
           "arrowhead": 0,
           "arrowwidth": 1
          },
          "geo": {
           "bgcolor": "white",
           "landcolor": "#E5ECF6",
           "subunitcolor": "white",
           "showland": true,
           "showlakes": true,
           "lakecolor": "white"
          },
          "title": {
           "x": 0.05
          },
          "mapbox": {
           "style": "light"
          }
         }
        }
       },
       "config": {
        "plotlyServerURL": "https://plot.ly"
       }
      },
      "text/html": "<div>                            <div id=\"3ebc9927-f5d1-485d-9139-5928945ad2cb\" class=\"plotly-graph-div\" style=\"height:525px; width:100%;\"></div>            <script type=\"text/javascript\">                require([\"plotly\"], function(Plotly) {                    window.PLOTLYENV=window.PLOTLYENV || {};                                    if (document.getElementById(\"3ebc9927-f5d1-485d-9139-5928945ad2cb\")) {                    Plotly.newPlot(                        \"3ebc9927-f5d1-485d-9139-5928945ad2cb\",                        [{\"mode\":\"markers\",\"name\":\"Objective Value\",\"x\":[0,1,2,3,4,5,6,7,8,9,10,11,12,13,14,15,16,17,18,19,20,21,22,23,24,25,26,27,28,29,30,31,32,33,34,35,36,37,38,39,40,41,42,43,44,45,46,47,48,49,50,51,52,53,54,55,56,57,58,59,60,61,62,63,64,65,66,67,68,69,70,71,72,73,74,75,76,77,78,79,80,81,82,83,84,85,86,87,88,89,90,91,92,93,94,95,96,97,98,99,100,101,102,103,104,105,106,107,108,109,110,111,112,113,114,115,116,117,118,119,120,121,122,123,124,125,126,127,128,129,130,131,132,133,134,135,136,137,138,139,140,141,142,143,144,145,146,147,148,149,150,151,152,153,154,155,156,157,158,159,160,161,162,163,164,165,166,167,168,169,170,171,172,173,174,175,176,177,178,179,180,181,182,183,184,185,186,187,188,189,190,191,192,193,194,195,196,197,198,199],\"y\":[1.1751555963818288,1.176397199259896,1.1772495303010724,1.1777009318672282,1.178141469471336,1.1795406794381638,1.181186325991822,1.1789554217270142,1.1811962466616408,1.181872455515288,1.1814021949308158,1.182709483535973,1.1819173279203556,1.1820700666177995,1.1821825028213866,1.1815615368977699,1.1815441346400093,1.1817373363586883,1.1762974354591536,1.1826758975118377,1.1792969482620121,1.182188166030083,1.182093348188037,1.1824367755488352,1.181260473174849,1.1811055874757008,1.1818979559268603,1.1807249928259305,1.1797671275101402,1.1747648382438187,1.1824283401973157,1.1757917685785924,1.181544886647485,1.1745659446852061,1.1801942250605884,1.183725249388306,1.1816703608869832,1.1811683463655018,1.1805471260720843,1.18256128282758,1.1816587832826708,1.1824039919407547,1.1818465513254426,1.181677650218065,1.1824271794737007,1.1826014353792098,1.181401475555833,1.181574986726404,1.1815748161573583,1.1814210816568234,1.1822076186159862,1.181693160064061,1.181373281229144,1.1829292285976736,1.1815177026846848,1.1810470100520034,1.1822079868745068,1.1823009772465667,1.1813913117103392,1.181915548717144,1.182305872251347,1.1799817016593315,1.1823881533905707,1.1820987094585222,1.181153631078753,1.181773490829327,1.1813877742422842,1.181939193029015,1.1815812488801944,1.1793360213894999,1.1790767621872635,1.1820688385531988,1.181427406305048,1.1826025103963385,1.1829706727510776,1.1811822238147878,1.1828006587042639,1.1807308141405244,1.1813398661360097,1.1816042252324672,1.1825415968104875,1.1827365865257742,1.182231308039526,1.1817443258226459,1.181756114236056,1.1826335918928725,1.1812793568890279,1.1816825051694915,1.1820948570792,1.1820058601450483,1.1827558849114428,1.1825423224679321,1.1817833995436067,1.181812129939044,1.182205084401522,1.1805452601443205,1.1814329382153035,1.1825228017060967,1.1810113256864072,1.181441656395377,1.1770174769088102,1.181060062910586,1.183116498480361,1.1816827548766924,1.1813415476713272,1.182058507532923,1.1807380252831683,1.1804303281183548,1.1836275006618784,1.182594176314243,1.1789279836389388,1.181566110228528,1.1819645852690097,1.1809250960203441,1.1827770621602574,1.1828179055763701,1.1826869703084804,1.1816172717315128,1.1816441723093447,1.1809374723526063,1.1826511397774893,1.1819048549511093,1.1830975140045024,1.1813333245753357,1.1816802067255814,1.182508936984788,1.1810051394628014,1.1788032089385325,1.182365601194859,1.1822760571540705,1.1814425121229564,1.1822424410848114,1.182548613435482,1.181761970436819,1.1811036812974263,1.1805401453336797,1.182575011142895,1.181224673077102,1.1822354607697532,1.1816102665279087,1.1818461509833573,1.180682096756853,1.1821601911249282,1.1810050522151114,1.1824257159728628,1.1813428685542704,1.1812786246816114,1.1827345686152133,1.1814922604295413,1.1807637823053112,1.1838181414924012,1.1823288697682994,1.1807308216808432,1.1803628272652291,1.182024696319073,1.1806338870072892,1.1822180154842952,1.1833326358607068,1.1816174621747642,1.1814718650766054,1.181088691447414,1.182331731028091,1.1829674030890744,1.1830670747241154,1.1812264473169487,1.182993106652101,1.1825193125843736,1.182546221792948,1.18265789794889,1.182839269178712,1.1826857403748559,1.183546191385604,1.183642509800839,1.1819611023661445,1.1815184056896328,1.180822570850305,1.182326369488291,1.1825570225024762,1.181791588484691,1.182274612810564,1.1812682136038137,1.1825368679723065,1.181221450308784,1.182411396527415,1.1824874264105263,1.182139391580889,1.1809365554379132,1.1752968724902055,1.1813213333993415,1.1825237271870839,1.181370734133959,1.1828718111169083,1.181428185344414,1.1828253925864816,1.1814959185021925,1.182389544507714,1.1818914518339294,1.1821759736905477,1.1816488093868134,1.1815688046009825],\"type\":\"scatter\"},{\"mode\":\"lines\",\"name\":\"Best Value\",\"x\":[0,1,2,3,4,5,6,7,8,9,10,11,12,13,14,15,16,17,18,19,20,21,22,23,24,25,26,27,28,29,30,31,32,33,34,35,36,37,38,39,40,41,42,43,44,45,46,47,48,49,50,51,52,53,54,55,56,57,58,59,60,61,62,63,64,65,66,67,68,69,70,71,72,73,74,75,76,77,78,79,80,81,82,83,84,85,86,87,88,89,90,91,92,93,94,95,96,97,98,99,100,101,102,103,104,105,106,107,108,109,110,111,112,113,114,115,116,117,118,119,120,121,122,123,124,125,126,127,128,129,130,131,132,133,134,135,136,137,138,139,140,141,142,143,144,145,146,147,148,149,150,151,152,153,154,155,156,157,158,159,160,161,162,163,164,165,166,167,168,169,170,171,172,173,174,175,176,177,178,179,180,181,182,183,184,185,186,187,188,189,190,191,192,193,194,195,196,197,198,199],\"y\":[1.1751555963818288,1.176397199259896,1.1772495303010724,1.1777009318672282,1.178141469471336,1.1795406794381638,1.181186325991822,1.181186325991822,1.1811962466616408,1.181872455515288,1.181872455515288,1.182709483535973,1.182709483535973,1.182709483535973,1.182709483535973,1.182709483535973,1.182709483535973,1.182709483535973,1.182709483535973,1.182709483535973,1.182709483535973,1.182709483535973,1.182709483535973,1.182709483535973,1.182709483535973,1.182709483535973,1.182709483535973,1.182709483535973,1.182709483535973,1.182709483535973,1.182709483535973,1.182709483535973,1.182709483535973,1.182709483535973,1.182709483535973,1.183725249388306,1.183725249388306,1.183725249388306,1.183725249388306,1.183725249388306,1.183725249388306,1.183725249388306,1.183725249388306,1.183725249388306,1.183725249388306,1.183725249388306,1.183725249388306,1.183725249388306,1.183725249388306,1.183725249388306,1.183725249388306,1.183725249388306,1.183725249388306,1.183725249388306,1.183725249388306,1.183725249388306,1.183725249388306,1.183725249388306,1.183725249388306,1.183725249388306,1.183725249388306,1.183725249388306,1.183725249388306,1.183725249388306,1.183725249388306,1.183725249388306,1.183725249388306,1.183725249388306,1.183725249388306,1.183725249388306,1.183725249388306,1.183725249388306,1.183725249388306,1.183725249388306,1.183725249388306,1.183725249388306,1.183725249388306,1.183725249388306,1.183725249388306,1.183725249388306,1.183725249388306,1.183725249388306,1.183725249388306,1.183725249388306,1.183725249388306,1.183725249388306,1.183725249388306,1.183725249388306,1.183725249388306,1.183725249388306,1.183725249388306,1.183725249388306,1.183725249388306,1.183725249388306,1.183725249388306,1.183725249388306,1.183725249388306,1.183725249388306,1.183725249388306,1.183725249388306,1.183725249388306,1.183725249388306,1.183725249388306,1.183725249388306,1.183725249388306,1.183725249388306,1.183725249388306,1.183725249388306,1.183725249388306,1.183725249388306,1.183725249388306,1.183725249388306,1.183725249388306,1.183725249388306,1.183725249388306,1.183725249388306,1.183725249388306,1.183725249388306,1.183725249388306,1.183725249388306,1.183725249388306,1.183725249388306,1.183725249388306,1.183725249388306,1.183725249388306,1.183725249388306,1.183725249388306,1.183725249388306,1.183725249388306,1.183725249388306,1.183725249388306,1.183725249388306,1.183725249388306,1.183725249388306,1.183725249388306,1.183725249388306,1.183725249388306,1.183725249388306,1.183725249388306,1.183725249388306,1.183725249388306,1.183725249388306,1.183725249388306,1.183725249388306,1.183725249388306,1.183725249388306,1.183725249388306,1.183725249388306,1.183725249388306,1.183725249388306,1.1838181414924012,1.1838181414924012,1.1838181414924012,1.1838181414924012,1.1838181414924012,1.1838181414924012,1.1838181414924012,1.1838181414924012,1.1838181414924012,1.1838181414924012,1.1838181414924012,1.1838181414924012,1.1838181414924012,1.1838181414924012,1.1838181414924012,1.1838181414924012,1.1838181414924012,1.1838181414924012,1.1838181414924012,1.1838181414924012,1.1838181414924012,1.1838181414924012,1.1838181414924012,1.1838181414924012,1.1838181414924012,1.1838181414924012,1.1838181414924012,1.1838181414924012,1.1838181414924012,1.1838181414924012,1.1838181414924012,1.1838181414924012,1.1838181414924012,1.1838181414924012,1.1838181414924012,1.1838181414924012,1.1838181414924012,1.1838181414924012,1.1838181414924012,1.1838181414924012,1.1838181414924012,1.1838181414924012,1.1838181414924012,1.1838181414924012,1.1838181414924012,1.1838181414924012,1.1838181414924012,1.1838181414924012,1.1838181414924012,1.1838181414924012],\"type\":\"scatter\"},{\"marker\":{\"color\":\"#cccccc\"},\"mode\":\"markers\",\"name\":\"Infeasible Trial\",\"showlegend\":false,\"x\":[],\"y\":[],\"type\":\"scatter\"}],                        {\"title\":{\"text\":\"Evoluci\\u00f3n del Hipervolumen total\",\"font\":{\"size\":30}},\"xaxis\":{\"title\":{\"text\":\"Trials\",\"font\":{\"size\":30}},\"tickfont\":{\"size\":20}},\"yaxis\":{\"title\":{\"text\":\"Hipervolumen total\",\"font\":{\"size\":30}},\"tickfont\":{\"size\":20}},\"template\":{\"data\":{\"histogram2dcontour\":[{\"type\":\"histogram2dcontour\",\"colorbar\":{\"outlinewidth\":0,\"ticks\":\"\"},\"colorscale\":[[0.0,\"#0d0887\"],[0.1111111111111111,\"#46039f\"],[0.2222222222222222,\"#7201a8\"],[0.3333333333333333,\"#9c179e\"],[0.4444444444444444,\"#bd3786\"],[0.5555555555555556,\"#d8576b\"],[0.6666666666666666,\"#ed7953\"],[0.7777777777777778,\"#fb9f3a\"],[0.8888888888888888,\"#fdca26\"],[1.0,\"#f0f921\"]]}],\"choropleth\":[{\"type\":\"choropleth\",\"colorbar\":{\"outlinewidth\":0,\"ticks\":\"\"}}],\"histogram2d\":[{\"type\":\"histogram2d\",\"colorbar\":{\"outlinewidth\":0,\"ticks\":\"\"},\"colorscale\":[[0.0,\"#0d0887\"],[0.1111111111111111,\"#46039f\"],[0.2222222222222222,\"#7201a8\"],[0.3333333333333333,\"#9c179e\"],[0.4444444444444444,\"#bd3786\"],[0.5555555555555556,\"#d8576b\"],[0.6666666666666666,\"#ed7953\"],[0.7777777777777778,\"#fb9f3a\"],[0.8888888888888888,\"#fdca26\"],[1.0,\"#f0f921\"]]}],\"heatmap\":[{\"type\":\"heatmap\",\"colorbar\":{\"outlinewidth\":0,\"ticks\":\"\"},\"colorscale\":[[0.0,\"#0d0887\"],[0.1111111111111111,\"#46039f\"],[0.2222222222222222,\"#7201a8\"],[0.3333333333333333,\"#9c179e\"],[0.4444444444444444,\"#bd3786\"],[0.5555555555555556,\"#d8576b\"],[0.6666666666666666,\"#ed7953\"],[0.7777777777777778,\"#fb9f3a\"],[0.8888888888888888,\"#fdca26\"],[1.0,\"#f0f921\"]]}],\"heatmapgl\":[{\"type\":\"heatmapgl\",\"colorbar\":{\"outlinewidth\":0,\"ticks\":\"\"},\"colorscale\":[[0.0,\"#0d0887\"],[0.1111111111111111,\"#46039f\"],[0.2222222222222222,\"#7201a8\"],[0.3333333333333333,\"#9c179e\"],[0.4444444444444444,\"#bd3786\"],[0.5555555555555556,\"#d8576b\"],[0.6666666666666666,\"#ed7953\"],[0.7777777777777778,\"#fb9f3a\"],[0.8888888888888888,\"#fdca26\"],[1.0,\"#f0f921\"]]}],\"contourcarpet\":[{\"type\":\"contourcarpet\",\"colorbar\":{\"outlinewidth\":0,\"ticks\":\"\"}}],\"contour\":[{\"type\":\"contour\",\"colorbar\":{\"outlinewidth\":0,\"ticks\":\"\"},\"colorscale\":[[0.0,\"#0d0887\"],[0.1111111111111111,\"#46039f\"],[0.2222222222222222,\"#7201a8\"],[0.3333333333333333,\"#9c179e\"],[0.4444444444444444,\"#bd3786\"],[0.5555555555555556,\"#d8576b\"],[0.6666666666666666,\"#ed7953\"],[0.7777777777777778,\"#fb9f3a\"],[0.8888888888888888,\"#fdca26\"],[1.0,\"#f0f921\"]]}],\"surface\":[{\"type\":\"surface\",\"colorbar\":{\"outlinewidth\":0,\"ticks\":\"\"},\"colorscale\":[[0.0,\"#0d0887\"],[0.1111111111111111,\"#46039f\"],[0.2222222222222222,\"#7201a8\"],[0.3333333333333333,\"#9c179e\"],[0.4444444444444444,\"#bd3786\"],[0.5555555555555556,\"#d8576b\"],[0.6666666666666666,\"#ed7953\"],[0.7777777777777778,\"#fb9f3a\"],[0.8888888888888888,\"#fdca26\"],[1.0,\"#f0f921\"]]}],\"mesh3d\":[{\"type\":\"mesh3d\",\"colorbar\":{\"outlinewidth\":0,\"ticks\":\"\"}}],\"scatter\":[{\"fillpattern\":{\"fillmode\":\"overlay\",\"size\":10,\"solidity\":0.2},\"type\":\"scatter\"}],\"parcoords\":[{\"type\":\"parcoords\",\"line\":{\"colorbar\":{\"outlinewidth\":0,\"ticks\":\"\"}}}],\"scatterpolargl\":[{\"type\":\"scatterpolargl\",\"marker\":{\"colorbar\":{\"outlinewidth\":0,\"ticks\":\"\"}}}],\"bar\":[{\"error_x\":{\"color\":\"#2a3f5f\"},\"error_y\":{\"color\":\"#2a3f5f\"},\"marker\":{\"line\":{\"color\":\"#E5ECF6\",\"width\":0.5},\"pattern\":{\"fillmode\":\"overlay\",\"size\":10,\"solidity\":0.2}},\"type\":\"bar\"}],\"scattergeo\":[{\"type\":\"scattergeo\",\"marker\":{\"colorbar\":{\"outlinewidth\":0,\"ticks\":\"\"}}}],\"scatterpolar\":[{\"type\":\"scatterpolar\",\"marker\":{\"colorbar\":{\"outlinewidth\":0,\"ticks\":\"\"}}}],\"histogram\":[{\"marker\":{\"pattern\":{\"fillmode\":\"overlay\",\"size\":10,\"solidity\":0.2}},\"type\":\"histogram\"}],\"scattergl\":[{\"type\":\"scattergl\",\"marker\":{\"colorbar\":{\"outlinewidth\":0,\"ticks\":\"\"}}}],\"scatter3d\":[{\"type\":\"scatter3d\",\"line\":{\"colorbar\":{\"outlinewidth\":0,\"ticks\":\"\"}},\"marker\":{\"colorbar\":{\"outlinewidth\":0,\"ticks\":\"\"}}}],\"scattermapbox\":[{\"type\":\"scattermapbox\",\"marker\":{\"colorbar\":{\"outlinewidth\":0,\"ticks\":\"\"}}}],\"scatterternary\":[{\"type\":\"scatterternary\",\"marker\":{\"colorbar\":{\"outlinewidth\":0,\"ticks\":\"\"}}}],\"scattercarpet\":[{\"type\":\"scattercarpet\",\"marker\":{\"colorbar\":{\"outlinewidth\":0,\"ticks\":\"\"}}}],\"carpet\":[{\"aaxis\":{\"endlinecolor\":\"#2a3f5f\",\"gridcolor\":\"white\",\"linecolor\":\"white\",\"minorgridcolor\":\"white\",\"startlinecolor\":\"#2a3f5f\"},\"baxis\":{\"endlinecolor\":\"#2a3f5f\",\"gridcolor\":\"white\",\"linecolor\":\"white\",\"minorgridcolor\":\"white\",\"startlinecolor\":\"#2a3f5f\"},\"type\":\"carpet\"}],\"table\":[{\"cells\":{\"fill\":{\"color\":\"#EBF0F8\"},\"line\":{\"color\":\"white\"}},\"header\":{\"fill\":{\"color\":\"#C8D4E3\"},\"line\":{\"color\":\"white\"}},\"type\":\"table\"}],\"barpolar\":[{\"marker\":{\"line\":{\"color\":\"#E5ECF6\",\"width\":0.5},\"pattern\":{\"fillmode\":\"overlay\",\"size\":10,\"solidity\":0.2}},\"type\":\"barpolar\"}],\"pie\":[{\"automargin\":true,\"type\":\"pie\"}]},\"layout\":{\"autotypenumbers\":\"strict\",\"colorway\":[\"#636efa\",\"#EF553B\",\"#00cc96\",\"#ab63fa\",\"#FFA15A\",\"#19d3f3\",\"#FF6692\",\"#B6E880\",\"#FF97FF\",\"#FECB52\"],\"font\":{\"color\":\"#2a3f5f\"},\"hovermode\":\"closest\",\"hoverlabel\":{\"align\":\"left\"},\"paper_bgcolor\":\"white\",\"plot_bgcolor\":\"#E5ECF6\",\"polar\":{\"bgcolor\":\"#E5ECF6\",\"angularaxis\":{\"gridcolor\":\"white\",\"linecolor\":\"white\",\"ticks\":\"\"},\"radialaxis\":{\"gridcolor\":\"white\",\"linecolor\":\"white\",\"ticks\":\"\"}},\"ternary\":{\"bgcolor\":\"#E5ECF6\",\"aaxis\":{\"gridcolor\":\"white\",\"linecolor\":\"white\",\"ticks\":\"\"},\"baxis\":{\"gridcolor\":\"white\",\"linecolor\":\"white\",\"ticks\":\"\"},\"caxis\":{\"gridcolor\":\"white\",\"linecolor\":\"white\",\"ticks\":\"\"}},\"coloraxis\":{\"colorbar\":{\"outlinewidth\":0,\"ticks\":\"\"}},\"colorscale\":{\"sequential\":[[0.0,\"#0d0887\"],[0.1111111111111111,\"#46039f\"],[0.2222222222222222,\"#7201a8\"],[0.3333333333333333,\"#9c179e\"],[0.4444444444444444,\"#bd3786\"],[0.5555555555555556,\"#d8576b\"],[0.6666666666666666,\"#ed7953\"],[0.7777777777777778,\"#fb9f3a\"],[0.8888888888888888,\"#fdca26\"],[1.0,\"#f0f921\"]],\"sequentialminus\":[[0.0,\"#0d0887\"],[0.1111111111111111,\"#46039f\"],[0.2222222222222222,\"#7201a8\"],[0.3333333333333333,\"#9c179e\"],[0.4444444444444444,\"#bd3786\"],[0.5555555555555556,\"#d8576b\"],[0.6666666666666666,\"#ed7953\"],[0.7777777777777778,\"#fb9f3a\"],[0.8888888888888888,\"#fdca26\"],[1.0,\"#f0f921\"]],\"diverging\":[[0,\"#8e0152\"],[0.1,\"#c51b7d\"],[0.2,\"#de77ae\"],[0.3,\"#f1b6da\"],[0.4,\"#fde0ef\"],[0.5,\"#f7f7f7\"],[0.6,\"#e6f5d0\"],[0.7,\"#b8e186\"],[0.8,\"#7fbc41\"],[0.9,\"#4d9221\"],[1,\"#276419\"]]},\"xaxis\":{\"gridcolor\":\"white\",\"linecolor\":\"white\",\"ticks\":\"\",\"title\":{\"standoff\":15},\"zerolinecolor\":\"white\",\"automargin\":true,\"zerolinewidth\":2},\"yaxis\":{\"gridcolor\":\"white\",\"linecolor\":\"white\",\"ticks\":\"\",\"title\":{\"standoff\":15},\"zerolinecolor\":\"white\",\"automargin\":true,\"zerolinewidth\":2},\"scene\":{\"xaxis\":{\"backgroundcolor\":\"#E5ECF6\",\"gridcolor\":\"white\",\"linecolor\":\"white\",\"showbackground\":true,\"ticks\":\"\",\"zerolinecolor\":\"white\",\"gridwidth\":2},\"yaxis\":{\"backgroundcolor\":\"#E5ECF6\",\"gridcolor\":\"white\",\"linecolor\":\"white\",\"showbackground\":true,\"ticks\":\"\",\"zerolinecolor\":\"white\",\"gridwidth\":2},\"zaxis\":{\"backgroundcolor\":\"#E5ECF6\",\"gridcolor\":\"white\",\"linecolor\":\"white\",\"showbackground\":true,\"ticks\":\"\",\"zerolinecolor\":\"white\",\"gridwidth\":2}},\"shapedefaults\":{\"line\":{\"color\":\"#2a3f5f\"}},\"annotationdefaults\":{\"arrowcolor\":\"#2a3f5f\",\"arrowhead\":0,\"arrowwidth\":1},\"geo\":{\"bgcolor\":\"white\",\"landcolor\":\"#E5ECF6\",\"subunitcolor\":\"white\",\"showland\":true,\"showlakes\":true,\"lakecolor\":\"white\"},\"title\":{\"x\":0.05},\"mapbox\":{\"style\":\"light\"}}}},                        {\"responsive\": true}                    ).then(function(){\n                            \nvar gd = document.getElementById('3ebc9927-f5d1-485d-9139-5928945ad2cb');\nvar x = new MutationObserver(function (mutations, observer) {{\n        var display = window.getComputedStyle(gd).display;\n        if (!display || display === 'none') {{\n            console.log([gd, 'removed!']);\n            Plotly.purge(gd);\n            observer.disconnect();\n        }}\n}});\n\n// Listen for the removal of the full notebook cells\nvar notebookContainer = gd.closest('#notebook-container');\nif (notebookContainer) {{\n    x.observe(notebookContainer, {childList: true});\n}}\n\n// Listen for the clearing of the current output cell\nvar outputEl = gd.closest('.output');\nif (outputEl) {{\n    x.observe(outputEl, {childList: true});\n}}\n\n                        })                };                });            </script>        </div>"
     },
     "metadata": {},
     "output_type": "display_data"
    }
   ],
   "source": [
    "fig=optuna.visualization.plot_optimization_history(study)\n",
    "# Cambiar el título de la figura\n",
    "fig.update_layout(title=dict(text='Evolución del Hipervolumen total',font=dict(size=30)),\n",
    "                  xaxis_title='Trials',\n",
    "                  yaxis_title='Hipervolumen total',\n",
    "                  xaxis=dict(\n",
    "                        title=dict(font=dict(size=30)),  # Cambia el tamaño de la fuente del título del eje X\n",
    "                        tickfont=dict(size=20)           # Cambia el tamaño de la fuente de las etiquetas del eje X\n",
    "                            ),\n",
    "                yaxis=dict(\n",
    "                        title=dict(font=dict(size=30)),  # Cambia el tamaño de la fuente del título del eje Y\n",
    "                        tickfont=dict(size=20)\n",
    "                            )\n",
    ")\n",
    "\n",
    "# Mostrar la figura\n",
    "fig.show()"
   ],
   "metadata": {
    "collapsed": false,
    "ExecuteTime": {
     "end_time": "2024-06-23T16:39:09.302304800Z",
     "start_time": "2024-06-23T16:39:09.246794900Z"
    }
   },
   "id": "b0b05029becc9ebc",
   "execution_count": 26
  },
  {
   "cell_type": "code",
   "outputs": [
    {
     "data": {
      "text/plain": "<Figure size 640x480 with 2 Axes>",
      "image/png": "[encoded data removed]"
     },
     "metadata": {},
     "output_type": "display_data"
    }
   ],
   "source": [
    "# Guarda el DataFrame en un archivo CSV\n",
    "df.to_csv('study_results.csv', index=False)\n",
    "\n",
    "import matplotlib.pyplot as plt\n",
    "valor_objetivo = df.iloc[:,1]\n",
    "tasa_mutacion = df.iloc[:,6]\n",
    "tasa_cruce = df.iloc[:,5]\n",
    "\n",
    "# Crear el gráfico de dispersión\n",
    "plt.scatter(tasa_mutacion, tasa_cruce, c=valor_objetivo, cmap='viridis', marker='o')\n",
    "\n",
    "# Añadir una barra de color\n",
    "cbar = plt.colorbar()\n",
    "cbar.set_label('Valor Objetivo')\n",
    "\n",
    "# Etiquetas de los ejes\n",
    "plt.xlabel('Tasa de Mutación')\n",
    "plt.ylabel('Tasa de Cruce')\n",
    "\n",
    "# Título del gráfico\n",
    "plt.title('Evolución de la Tasa de Mutación y Cruce ')\n",
    "\n",
    "# Mostrar el gráfico\n",
    "plt.show()"
   ],
   "metadata": {
    "collapsed": false,
    "ExecuteTime": {
     "end_time": "2024-06-23T16:16:05.188219500Z",
     "start_time": "2024-06-23T16:16:04.778690800Z"
    }
   },
   "id": "7e0177556270bbcb",
   "execution_count": 9
  }
 ],
 "metadata": {
  "kernelspec": {
   "display_name": "Python 3",
   "language": "python",
   "name": "python3"
  },
  "language_info": {
   "codemirror_mode": {
    "name": "ipython",
    "version": 2
   },
   "file_extension": ".py",
   "mimetype": "text/x-python",
   "name": "python",
   "nbconvert_exporter": "python",
   "pygments_lexer": "ipython2",
   "version": "2.7.6"
  }
 },
 "nbformat": 4,
 "nbformat_minor": 5
}
